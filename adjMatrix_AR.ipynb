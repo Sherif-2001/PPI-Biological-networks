{
 "cells": [
  {
   "cell_type": "code",
   "execution_count": null,
   "metadata": {},
   "outputs": [],
   "source": [
    "from unipressed import IdMappingClient\n",
    "import numpy as np\n",
    "import time"
   ]
  },
  {
   "cell_type": "code",
   "execution_count": null,
   "metadata": {},
   "outputs": [],
   "source": [
    "def getNetworkData(filePath):\n",
    "    data = np.loadtxt(filePath, delimiter=',', skiprows=1, dtype=str)\n",
    "    tempData = []\n",
    "    for row in data:\n",
    "        tempData.append(row.split(\"\\t\")[0])\n",
    "    return tempData"
   ]
  },
  {
   "cell_type": "code",
   "execution_count": null,
   "metadata": {},
   "outputs": [],
   "source": [
    "nodesData = getNetworkData(\"Alpha6Beta4Integrin-nodes.txt\")"
   ]
  },
  {
   "cell_type": "code",
   "execution_count": null,
   "metadata": {},
   "outputs": [],
   "source": [
    "def convert_Uniport_to_gene_name(arr):\n",
    "    ids = set()\n",
    "    for elemnt in arr: \n",
    "        ids.add(elemnt)\n",
    "    request = IdMappingClient.submit(\n",
    "    source=\"UniProtKB_AC-ID\", dest=\"Gene_Name\", ids=ids\n",
    "    )\n",
    "    time.sleep(1.5)\n",
    "    return list(request.each_result())"
   ]
  },
  {
   "cell_type": "code",
   "execution_count": null,
   "metadata": {},
   "outputs": [],
   "source": [
    "convert_Uniport_to_gene_name(nodesData)"
   ]
  },
  {
   "cell_type": "code",
   "execution_count": null,
   "metadata": {},
   "outputs": [],
   "source": [
    "from matplotlib import pyplot as plt\n",
    "import networkx as nx\n",
    "import numpy as np\n",
    "\n",
    "from path_class import PathData\n",
    "\n"
   ]
  },
  {
   "cell_type": "code",
   "execution_count": null,
   "metadata": {},
   "outputs": [],
   "source": [
    "\n",
    "def getEdges(filePath):\n",
    "    data = np.loadtxt(filePath, usecols=(0,1,2),\n",
    "                      skiprows=1, dtype=str)\n",
    "    edges = []\n",
    "    weights = []\n",
    "\n",
    "    for i in range(0, len(data)-1):\n",
    "        edges.append((data[i][0], data[i][1]))\n",
    "        weights.append(data[i][2])\n",
    "    return edges,weights\n"
   ]
  },
  {
   "cell_type": "code",
   "execution_count": null,
   "metadata": {},
   "outputs": [],
   "source": [
    "\n",
    "def getNodes(filePath):\n",
    "\n",
    "    data = np.loadtxt(filePath, usecols=(0,1),\n",
    "                      skiprows=1, dtype=str)\n",
    "    nodes = set()\n",
    "\n",
    "    for i in range(0, len(data)-1):\n",
    "        nodes.add(data[i][0])\n",
    "        nodes.add(data[i][1])\n",
    "    return nodes\n"
   ]
  },
  {
   "cell_type": "code",
   "execution_count": null,
   "metadata": {},
   "outputs": [],
   "source": [
    "edges, weights = getEdges(\"Alpha6Beta4Integrin-edges.txt\")\n",
    "nodes = getNodes(\n",
    "    \"Alpha6Beta4Integrin-edges.txt\")"
   ]
  },
  {
   "cell_type": "code",
   "execution_count": null,
   "metadata": {},
   "outputs": [],
   "source": [
    "def adjMatrix(nodes,edges):\n",
    "    matrix = []\n",
    "    i= 0\n",
    "    j= 0\n",
    "    for tail in nodes:\n",
    "        matrix.append([])\n",
    "        for head in nodes:\n",
    "            if (tail,head) in edges:\n",
    "                matrix[i].append(1)\n",
    "            else:\n",
    "                matrix[i].append(0)\n",
    "        i += 1\n",
    "\n",
    "    return matrix\n"
   ]
  },
  {
   "cell_type": "code",
   "execution_count": null,
   "metadata": {},
   "outputs": [],
   "source": [
    "matrix = adjMatrix(nodes,edges)"
   ]
  },
  {
   "cell_type": "code",
   "execution_count": null,
   "metadata": {},
   "outputs": [],
   "source": [
    "matrix"
   ]
  }
 ],
 "metadata": {
  "kernelspec": {
   "display_name": "Python 3",
   "language": "python",
   "name": "python3"
  },
  "language_info": {
   "codemirror_mode": {
    "name": "ipython",
    "version": 3
   },
   "file_extension": ".py",
   "mimetype": "text/x-python",
   "name": "python",
   "nbconvert_exporter": "python",
   "pygments_lexer": "ipython3",
   "version": "3.8.1"
  },
  "orig_nbformat": 4,
  "vscode": {
   "interpreter": {
    "hash": "ccec89b7e0666a9cec2e13a7e8e1ed9e86faa836657450a203beb7cbd43e27c3"
   }
  }
 },
 "nbformat": 4,
 "nbformat_minor": 2
}
